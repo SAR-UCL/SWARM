{
 "cells": [
  {
   "cell_type": "code",
   "execution_count": 10,
   "metadata": {},
   "outputs": [
    {
     "name": "stdout",
     "output_type": "stream",
     "text": [
      "Setting value...\n",
      "Getting value...\n"
     ]
    },
    {
     "data": {
      "text/plain": [
       "-273"
      ]
     },
     "execution_count": 10,
     "metadata": {},
     "output_type": "execute_result"
    }
   ],
   "source": [
    "# using property class\n",
    "class Celsius:\n",
    "    def __init__(self, temperature=0):\n",
    "        self.temperature = temperature\n",
    "\n",
    "    def to_fahrenheit(self):\n",
    "        return (self.temperature * 1.8) + 32\n",
    "\n",
    "    # getter\n",
    "    @property\n",
    "    def temperature(self):\n",
    "        print(\"Getting value...\")\n",
    "        return self._temperature\n",
    "\n",
    "    # setter\n",
    "\n",
    "    @temperature.setter\n",
    "    def temperature(self, value):\n",
    "        print(\"Setting value...\")\n",
    "        if value < -273.15:\n",
    "            raise ValueError(\"Temperature below -273.15 is not possible\")\n",
    "        self._temperature = value\n",
    "\n",
    "    # creating a property object\n",
    "    #temperature = property(get_temperature, set_temperature)\n",
    "\n",
    "\n",
    "human = Celsius(-273)\n",
    "human.temperature\n",
    "#human.to_fahrenheit()\n",
    "\n",
    "#human.temperature = -300"
   ]
  },
  {
   "cell_type": "code",
   "execution_count": 14,
   "metadata": {},
   "outputs": [
    {
     "name": "stdout",
     "output_type": "stream",
     "text": [
      "[-5.58585859  5.44444444 -0.49494949 -0.35353535 -6.57575758  5.72727273\n",
      "  0.91919192  1.34343434 -5.16161616  1.48484848  3.74747475 -3.74747475\n",
      " -2.05050505 -4.73737374 -1.90909091  0.35353535  0.49494949  4.17171717\n",
      "  0.21212121  3.46464646 -5.3030303   4.31313131  5.86868687  5.3030303\n",
      "  6.15151515  1.90909091  3.60606061  6.85858586 -2.75757576 -2.47474747\n",
      " -1.2020202  -6.43434343  1.06060606  2.33333333 -3.32323232  2.19191919\n",
      " -4.31313131 -2.8989899   1.62626263 -6.15151515 -5.86868687 -4.87878788\n",
      "  2.05050505 -3.46464646 -3.88888889  6.43434343 -0.91919192 -4.17171717\n",
      "  5.16161616  2.8989899   1.76767677 -4.5959596   1.2020202   4.87878788\n",
      "  6.29292929 -4.45454545 -0.21212121 -3.18181818  3.18181818 -7.\n",
      "  3.04040404 -5.72727273  6.57575758 -6.01010101  0.63636364  4.45454545\n",
      " -0.07070707  4.03030303 -5.02020202 -1.76767677  3.88888889 -0.77777778\n",
      " -3.04040404 -4.03030303  5.02020202 -2.33333333  4.73737374 -2.19191919\n",
      " -6.85858586 -0.63636364 -5.44444444 -2.61616162 -1.62626263 -1.34343434\n",
      " -6.71717172 -1.48484848  6.71717172  4.5959596  -6.29292929  2.61616162\n",
      "  5.58585859  7.          0.77777778  2.75757576 -1.06060606  2.47474747\n",
      " -3.60606061  3.32323232  0.07070707  6.01010101]\n"
     ]
    }
   ],
   "source": [
    "import numpy as np\n",
    "\n",
    "l = 100\n",
    "eg = np.linspace(-7, 7, num=l)\n",
    "#eg = np.random.shuffle(eg)\n",
    "\n",
    "rng = np.random.default_rng()\n",
    "rng.shuffle(eg)\n",
    "#print(eg)\n",
    "print(eg)"
   ]
  },
  {
   "cell_type": "code",
   "execution_count": 26,
   "metadata": {},
   "outputs": [
    {
     "name": "stdout",
     "output_type": "stream",
     "text": [
      "   A  B\n",
      "0  0  1\n",
      "1  2  3\n",
      "2  4  5\n",
      "3  6  7\n",
      "4  8  9\n"
     ]
    },
    {
     "data": {
      "text/html": [
       "<div>\n",
       "<style scoped>\n",
       "    .dataframe tbody tr th:only-of-type {\n",
       "        vertical-align: middle;\n",
       "    }\n",
       "\n",
       "    .dataframe tbody tr th {\n",
       "        vertical-align: top;\n",
       "    }\n",
       "\n",
       "    .dataframe thead th {\n",
       "        text-align: right;\n",
       "    }\n",
       "</style>\n",
       "<table border=\"1\" class=\"dataframe\">\n",
       "  <thead>\n",
       "    <tr style=\"text-align: right;\">\n",
       "      <th></th>\n",
       "      <th>A</th>\n",
       "      <th>B</th>\n",
       "    </tr>\n",
       "  </thead>\n",
       "  <tbody>\n",
       "    <tr>\n",
       "      <th>0</th>\n",
       "      <td>0</td>\n",
       "      <td>1</td>\n",
       "    </tr>\n",
       "    <tr>\n",
       "      <th>1</th>\n",
       "      <td>2</td>\n",
       "      <td>3</td>\n",
       "    </tr>\n",
       "    <tr>\n",
       "      <th>2</th>\n",
       "      <td>5000</td>\n",
       "      <td>5</td>\n",
       "    </tr>\n",
       "    <tr>\n",
       "      <th>3</th>\n",
       "      <td>5000</td>\n",
       "      <td>7</td>\n",
       "    </tr>\n",
       "    <tr>\n",
       "      <th>4</th>\n",
       "      <td>5000</td>\n",
       "      <td>9</td>\n",
       "    </tr>\n",
       "  </tbody>\n",
       "</table>\n",
       "</div>"
      ],
      "text/plain": [
       "      A  B\n",
       "0     0  1\n",
       "1     2  3\n",
       "2  5000  5\n",
       "3  5000  7\n",
       "4  5000  9"
      ]
     },
     "execution_count": 26,
     "metadata": {},
     "output_type": "execute_result"
    }
   ],
   "source": [
    "import pandas as pd\n",
    "import numpy as np\n",
    "\n",
    "df = pd.DataFrame(np.arange(10).reshape(-1, 2), columns=['A', 'B'])#\n",
    "\n",
    "print(df)\n",
    "\n",
    "df['A'] = df['A'].where(df['A'] < 4, 5000)\n",
    "df\n",
    "#max_te = "
   ]
  }
 ],
 "metadata": {
  "interpreter": {
   "hash": "81c9f6066b02e9fc7530c8be7bfedc4bbc1ecba28634dc7aedcbba6cc5ff7208"
  },
  "kernelspec": {
   "display_name": "Python 3.8.13 ('tf_env')",
   "language": "python",
   "name": "python3"
  },
  "language_info": {
   "codemirror_mode": {
    "name": "ipython",
    "version": 3
   },
   "file_extension": ".py",
   "mimetype": "text/x-python",
   "name": "python",
   "nbconvert_exporter": "python",
   "pygments_lexer": "ipython3",
   "version": "3.8.13"
  },
  "orig_nbformat": 4
 },
 "nbformat": 4,
 "nbformat_minor": 2
}
